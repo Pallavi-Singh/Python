{
 "cells": [
  {
   "cell_type": "markdown",
   "metadata": {},
   "source": [
    "# Enter n and m values separated by space \n",
    "## constraints:\n",
    "    1. 5<n<101\n",
    "    2. m should be 3 times of n"
   ]
  },
  {
   "cell_type": "code",
   "execution_count": 62,
   "metadata": {},
   "outputs": [
    {
     "name": "stdout",
     "output_type": "stream",
     "text": [
      "13 39\n",
      "------------------.|.------------------\n",
      "---------------.|..|..|.---------------\n",
      "------------.|..|..|..|..|.------------\n",
      "---------.|..|..|..|..|..|..|.---------\n",
      "------.|..|..|..|..|..|..|..|..|.------\n",
      "---.|..|..|..|..|..|..|..|..|..|..|.---\n",
      "----------------WELCOME----------------\n",
      "---.|..|..|..|..|..|..|..|..|..|..|.---\n",
      "------.|..|..|..|..|..|..|..|..|.------\n",
      "---------.|..|..|..|..|..|..|.---------\n",
      "------------.|..|..|..|..|.------------\n",
      "---------------.|..|..|.---------------\n",
      "------------------.|.------------------\n"
     ]
    }
   ],
   "source": [
    "n,m= (input().split(' '))\n",
    "\n",
    "while True:\n",
    "    if 5>=int(n) or int(n)>101:\n",
    "        n=int(input())\n",
    "    else:\n",
    "        break\n",
    "\n",
    "\n",
    "mid = (int(n)-1)//2\n",
    "\n",
    "for i in range(0,mid):\n",
    "    print(f\"{'-'*((int(m)-len(('.|.')*(2*i+1)))//2)}{('.|.')*(2*i+1)}{'-'*((int(m)-len(('.|.')*(2*i+1)))//2)}\")\n",
    "    \n",
    "    \n",
    "print(f\"{'-'*int((int(m)-len('welcome'))/2)}{'WELCOME'}{'-'*int((int(m)-len('welcome'))/2)}\")\n",
    "\n",
    "\n",
    "a=2*mid -1\n",
    "for i in range(0,mid):\n",
    "    print(f\"{'-'*int((int(m)-len(('.|.')*(a)))//2)}{('.|.')*(a)}{'-'*int((int(m)-len(('.|.')*(a)))//2)}\")\n",
    "    a-=2\n",
    "\n"
   ]
  },
  {
   "cell_type": "code",
   "execution_count": null,
   "metadata": {},
   "outputs": [],
   "source": []
  }
 ],
 "metadata": {
  "kernelspec": {
   "display_name": "Python 3",
   "language": "python",
   "name": "python3"
  },
  "language_info": {
   "codemirror_mode": {
    "name": "ipython",
    "version": 3
   },
   "file_extension": ".py",
   "mimetype": "text/x-python",
   "name": "python",
   "nbconvert_exporter": "python",
   "pygments_lexer": "ipython3",
   "version": "3.7.7"
  }
 },
 "nbformat": 4,
 "nbformat_minor": 4
}

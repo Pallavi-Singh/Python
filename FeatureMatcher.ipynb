{
 "cells": [
  {
   "cell_type": "code",
   "execution_count": 1,
   "metadata": {},
   "outputs": [],
   "source": [
    "import pandas as pd"
   ]
  },
  {
   "cell_type": "markdown",
   "metadata": {},
   "source": [
    "## Matching the feature names in the two dataset \n",
    "\n",
    "- **Use Case 1:** Comparision of feature names in training and testing set\n",
    "\n",
    "- **Use case 2:** Comparision of feature names of two data frames that needs to be combined for EDA "
   ]
  },
  {
   "cell_type": "markdown",
   "metadata": {},
   "source": [
    "### If the number of features is large enough in two dataframes then matching the respective names by calling column attribute on data frame objects will be a cumbersome task\n",
    "- **Constraints:** \n",
    "- Considered only **two dataframes**\n",
    "- Check the shape of two data frames and compare no. of features - for eg df1 and df2 are the data frames\n",
    "\n",
    "    - If the no. of features are equal **[len(df1.columns) = len(df2.columns)]**\n",
    "        - Then the order of passing these data frames(eg df1,df2) as arguments in the below User-Defined function will not impact the outcome\n",
    "        \n",
    "    - If the no.features differ  **[len(df1.columns) < len(df2.columns)]**\n",
    "        - Then pass the data frame with less number of features as the first argument and later as the second argument \n",
    "          (df1 parameter should be the data frame which is having less number of features than df2 parameter)\n",
    "          \n",
    "\n",
    "- **Note:** Order of appearance of feature names in the two dataframes is easily handled by concat and append methods\n",
    "    - If the two dataframes are combined by using **concat() or append()** methods then these methods are smart enough to figure it out to ignore the order mismatch\n",
    "    - But the only condition for **order ignorance** by these 2 methods is that the **FEATURE NAMES SHOULD BE SAME in both the datasets**\n"
   ]
  },
  {
   "cell_type": "code",
   "execution_count": 2,
   "metadata": {},
   "outputs": [],
   "source": [
    "def feature_check(df1,df2):                                 \n",
    "    \n",
    "    if set(df2.columns).difference(set(df1.columns))==set(): #checking for zero difference between the two dataframes\n",
    "        return True                                          #if all the feature names are same then True is returned\n",
    "    \n",
    "    else:                                                    #Return the non matching features in df1 as well as df2\n",
    "        return {'df1':set(df1.columns).difference(set(df2.columns)),'df2': set(df2.columns).difference(set(df1.columns))}\n",
    "    "
   ]
  },
  {
   "cell_type": "code",
   "execution_count": 3,
   "metadata": {},
   "outputs": [],
   "source": [
    "# proof of concept using dummy data\n",
    "noclickDF = pd.DataFrame([[0,123,59],[0,1543,56]], columns=['click', 'id','location'])\n",
    "clickDF = pd.DataFrame([[1,123,421],[1,1543,436]], columns=['click', 'location','id'])"
   ]
  },
  {
   "cell_type": "code",
   "execution_count": 4,
   "metadata": {},
   "outputs": [
    {
     "data": {
      "text/plain": [
       "True"
      ]
     },
     "execution_count": 4,
     "metadata": {},
     "output_type": "execute_result"
    }
   ],
   "source": [
    "feature_check(clickDF,noclickDF)"
   ]
  },
  {
   "cell_type": "code",
   "execution_count": 5,
   "metadata": {},
   "outputs": [],
   "source": [
    "noclickDF = pd.DataFrame([[0,123,56,'M'],[0,1543,567,'F']], columns=['click', 'id','location','gender'])\n",
    "clickDF = pd.DataFrame([[1,123],[1,1543]], columns=['click', 'loc'])"
   ]
  },
  {
   "cell_type": "code",
   "execution_count": 6,
   "metadata": {},
   "outputs": [
    {
     "data": {
      "text/plain": [
       "{'df1': {'loc'}, 'df2': {'gender', 'id', 'location'}}"
      ]
     },
     "execution_count": 6,
     "metadata": {},
     "output_type": "execute_result"
    }
   ],
   "source": [
    "feature_check(clickDF,noclickDF)"
   ]
  }
 ],
 "metadata": {
  "kernelspec": {
   "display_name": "Python 3",
   "language": "python",
   "name": "python3"
  },
  "language_info": {
   "codemirror_mode": {
    "name": "ipython",
    "version": 3
   },
   "file_extension": ".py",
   "mimetype": "text/x-python",
   "name": "python",
   "nbconvert_exporter": "python",
   "pygments_lexer": "ipython3",
   "version": "3.7.7"
  }
 },
 "nbformat": 4,
 "nbformat_minor": 4
}
